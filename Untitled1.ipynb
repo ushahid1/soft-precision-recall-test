{
 "cells": [
  {
   "cell_type": "code",
   "execution_count": null,
   "metadata": {},
   "outputs": [],
   "source": [
    "import sys\n",
    "print(sys.argv[1])\n",
    "f = open(\"/home/tko/usman/web-docs/SoftEval/py/demofile.txt\", \"w\")\n",
    "f.write(\"Woops! I have deleted the content!\") \n",
    "import gensim.models.keyedvectors as word2vec\n",
    "model=word2vec.KeyedVectors.load_word2vec_format('/home/tko/usman/web-docs/SoftEval/py/GoogleNews-vectors-negative300.bin',binary=True)\n",
    "\n",
    "import numpy as np\n",
    "\n",
    "def get_score(tokens,ground_truth):\n",
    "    sc2=[]\n",
    "    for tk in tokens:\n",
    "        i =0\n",
    "        sc=[]\n",
    "        for tk_2 in ground_truth:\n",
    "            try:\n",
    "                sim =model.similarity(tk,tk_2)\n",
    "                print(i,tk,tk_2, sim)\n",
    "                f.write(tk,tk_2, sim)\n",
    "                sc.append(sim)\n",
    "                i = i + 1\n",
    "            except KeyError:\n",
    "                sc.append(0)\n",
    "                i = i + 1\n",
    "        sc=np.array(sc)\n",
    "        sc2.append(np.max(sc,axis=0))\n",
    "    return sc2\n",
    "\n",
    "\n",
    "\n",
    "pred= sys.argv[1]\n",
    "gt = sys.argv[2]\n",
    "\n",
    "pred= pred.split()\n",
    "gt= gt.split()\n",
    "\n",
    "get_score(pred,pred)\n",
    "get_score(pred,gt)\n",
    "get_score(gt,gt)\n",
    "f.close()"
   ]
  }
 ],
 "metadata": {
  "kernelspec": {
   "display_name": "Python 3",
   "language": "python",
   "name": "python3"
  },
  "language_info": {
   "codemirror_mode": {
    "name": "ipython",
    "version": 3
   },
   "file_extension": ".py",
   "mimetype": "text/x-python",
   "name": "python",
   "nbconvert_exporter": "python",
   "pygments_lexer": "ipython3",
   "version": "3.4.9"
  }
 },
 "nbformat": 4,
 "nbformat_minor": 2
}
