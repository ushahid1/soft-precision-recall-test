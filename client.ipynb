{
 "cells": [
  {
   "cell_type": "code",
   "execution_count": 23,
   "metadata": {},
   "outputs": [
    {
     "name": "stdout",
     "output_type": "stream",
     "text": [
      "<ipykernel.iostream.OutStream object at 0x7fd20059fc18> connecting to %s port  ('localhost', 10003)\n",
      "<ipykernel.iostream.OutStream object at 0x7fd20059fc18> sending  Computer,Co\n",
      "<ipykernel.iostream.OutStream object at 0x7fd20059fc18> closing socket\n",
      "<ipykernel.iostream.OutStream object at 0x7fd20059fc18> received  0.07416283\n",
      "\n"
     ]
    }
   ],
   "source": [
    "import socket\n",
    "import sys\n",
    "\n",
    "# Create a TCP/IP socket\n",
    "sock = socket.socket(socket.AF_INET, socket.SOCK_STREAM)\n",
    "\n",
    "# Connect the socket to the port where the server is listening\n",
    "server_address = ('localhost', 10003)\n",
    "print (sys.stderr, 'connecting to %s port ', server_address)\n",
    "sock.connect(server_address)\n",
    "try:\n",
    "    \n",
    "    # Send data\n",
    "    message = 'Computer,Co'\n",
    "    print (sys.stderr, 'sending ', message)\n",
    "    sock.sendall(bytes(message, \"utf-8\"))\n",
    "\n",
    "    # Look for the response\n",
    "    amount_received = 0\n",
    "    amount_expected = 4\n",
    "    \n",
    "    while amount_received < amount_expected:\n",
    "        data = sock.recv(1001)\n",
    "        amount_received += len(data)\n",
    "        \n",
    "\n",
    "finally:\n",
    "    print (sys.stderr, 'closing socket')\n",
    "    data= data.decode(\"utf-8\")\n",
    "    print (sys.stderr, 'received ', data)\n",
    "    sock.close()"
   ]
  },
  {
   "cell_type": "code",
   "execution_count": null,
   "metadata": {},
   "outputs": [],
   "source": []
  },
  {
   "cell_type": "code",
   "execution_count": null,
   "metadata": {},
   "outputs": [],
   "source": []
  }
 ],
 "metadata": {
  "kernelspec": {
   "display_name": "Python 3",
   "language": "python",
   "name": "python3"
  },
  "language_info": {
   "codemirror_mode": {
    "name": "ipython",
    "version": 3
   },
   "file_extension": ".py",
   "mimetype": "text/x-python",
   "name": "python",
   "nbconvert_exporter": "python",
   "pygments_lexer": "ipython3",
   "version": "3.4.9"
  }
 },
 "nbformat": 4,
 "nbformat_minor": 2
}
