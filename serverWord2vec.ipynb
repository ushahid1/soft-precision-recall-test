{
 "cells": [
  {
   "cell_type": "code",
   "execution_count": 12,
   "metadata": {},
   "outputs": [],
   "source": [
    "from nltk.stem import PorterStemmer\n",
    "from nltk.tokenize import sent_tokenize, word_tokenize\n",
    "from nltk.stem import WordNetLemmatizer\n",
    "import gensim.models.keyedvectors as word2vec\n",
    "import numpy as np\n",
    "import socket\n",
    "import sys\n",
    "\n",
    "\n",
    "model=word2vec.KeyedVectors.load_word2vec_format('./GoogleNews-vectors-negative300.bin',binary=True)\n",
    "\n",
    "\n",
    "# Create a TCP/IP socket\n",
    "sock = socket.socket(socket.AF_INET, socket.SOCK_STREAM)\n",
    "server_address = ('localhost', 10003)\n",
    "print (sys.stderr, 'starting up on %s port %s' % server_address)\n",
    "sock.bind(server_address)\n",
    "sock.listen(1)\n",
    "\n",
    "while True:\n",
    "    # Wait for a connection\n",
    "    print (sys.stderr, 'waiting for a connection')\n",
    "    connection, client_address = sock.accept()\n",
    "    try:\n",
    "        print (sys.stderr, 'connection from', client_address)\n",
    "\n",
    "        # Receive the data in small chunks and retransmit it\n",
    "        while True:\n",
    "            data = connection.recv(1001)\n",
    "            print (sys.stderr, 'received ', data)\n",
    "            if data:\n",
    "                print (sys.stderr, 'sending data back to the client')\n",
    "                data = data.decode(\"utf-8\") \n",
    "                words = data.split(',')\n",
    "                try:\n",
    "                    result=model.similarity(words[0],words[1])\n",
    "                except KeyError:\n",
    "                    result=-1\n",
    "                result = str(result) + \"\\n\"\n",
    "                print(str(result))\n",
    "                connection.sendall(bytes(result, \"utf-8\"))\n",
    "            else:\n",
    "                print (sys.stderr, 'no more data from', client_address)\n",
    "                break\n",
    "            \n",
    "    finally:\n",
    "        # Clean up the connection\n",
    "        connection.close()"
   ]
  },
  {
   "cell_type": "code",
   "execution_count": 22,
   "metadata": {},
   "outputs": [
    {
     "name": "stdout",
     "output_type": "stream",
     "text": [
      "<ipykernel.iostream.OutStream object at 0x7f159bce0d68> starting up on localhost port 10003\n",
      "<ipykernel.iostream.OutStream object at 0x7f159bce0d68> waiting for a connection\n",
      "<ipykernel.iostream.OutStream object at 0x7f159bce0d68> connection from ('127.0.0.1', 55222)\n",
      "<ipykernel.iostream.OutStream object at 0x7f159bce0d68> received  b'Computer,Co'\n",
      "<ipykernel.iostream.OutStream object at 0x7f159bce0d68> sending data back to the client\n",
      "0.07416283\n",
      "\n",
      "<ipykernel.iostream.OutStream object at 0x7f159bce0d68> received  b''\n",
      "<ipykernel.iostream.OutStream object at 0x7f159bce0d68> no more data from ('127.0.0.1', 55222)\n",
      "<ipykernel.iostream.OutStream object at 0x7f159bce0d68> waiting for a connection\n"
     ]
    },
    {
     "name": "stderr",
     "output_type": "stream",
     "text": [
      "/usr/lib64/python3.4/site-packages/gensim/matutils.py:737: FutureWarning: Conversion of the second argument of issubdtype from `int` to `np.signedinteger` is deprecated. In future, it will be treated as `np.int64 == np.dtype(int).type`.\n",
      "  if np.issubdtype(vec.dtype, np.int):\n"
     ]
    },
    {
     "name": "stdout",
     "output_type": "stream",
     "text": [
      "<ipykernel.iostream.OutStream object at 0x7f159bce0d68> connection from ('127.0.0.1', 55264)\n",
      "<ipykernel.iostream.OutStream object at 0x7f159bce0d68> received  b''\n",
      "<ipykernel.iostream.OutStream object at 0x7f159bce0d68> no more data from ('127.0.0.1', 55264)\n",
      "<ipykernel.iostream.OutStream object at 0x7f159bce0d68> waiting for a connection\n",
      "<ipykernel.iostream.OutStream object at 0x7f159bce0d68> connection from ('127.0.0.1', 55354)\n",
      "<ipykernel.iostream.OutStream object at 0x7f159bce0d68> received  b''\n",
      "<ipykernel.iostream.OutStream object at 0x7f159bce0d68> no more data from ('127.0.0.1', 55354)\n",
      "<ipykernel.iostream.OutStream object at 0x7f159bce0d68> waiting for a connection\n",
      "<ipykernel.iostream.OutStream object at 0x7f159bce0d68> connection from ('127.0.0.1', 55566)\n",
      "<ipykernel.iostream.OutStream object at 0x7f159bce0d68> received  b''\n",
      "<ipykernel.iostream.OutStream object at 0x7f159bce0d68> no more data from ('127.0.0.1', 55566)\n",
      "<ipykernel.iostream.OutStream object at 0x7f159bce0d68> waiting for a connection\n",
      "<ipykernel.iostream.OutStream object at 0x7f159bce0d68> connection from ('127.0.0.1', 55754)\n",
      "<ipykernel.iostream.OutStream object at 0x7f159bce0d68> received  b'Finland,University'\n",
      "<ipykernel.iostream.OutStream object at 0x7f159bce0d68> sending data back to the client\n",
      "0.091112964\n",
      "\n",
      "<ipykernel.iostream.OutStream object at 0x7f159bce0d68> received  b''\n",
      "<ipykernel.iostream.OutStream object at 0x7f159bce0d68> no more data from ('127.0.0.1', 55754)\n",
      "<ipykernel.iostream.OutStream object at 0x7f159bce0d68> waiting for a connection\n",
      "<ipykernel.iostream.OutStream object at 0x7f159bce0d68> connection from ('127.0.0.1', 55898)\n",
      "<ipykernel.iostream.OutStream object at 0x7f159bce0d68> received  b'Finland,Pakistan'\n",
      "<ipykernel.iostream.OutStream object at 0x7f159bce0d68> sending data back to the client\n",
      "0.23821251\n",
      "\n",
      "<ipykernel.iostream.OutStream object at 0x7f159bce0d68> received  b''\n",
      "<ipykernel.iostream.OutStream object at 0x7f159bce0d68> no more data from ('127.0.0.1', 55898)\n",
      "<ipykernel.iostream.OutStream object at 0x7f159bce0d68> waiting for a connection\n",
      "<ipykernel.iostream.OutStream object at 0x7f159bce0d68> connection from ('127.0.0.1', 56028)\n",
      "<ipykernel.iostream.OutStream object at 0x7f159bce0d68> received  b'Finland,Paki'\n",
      "<ipykernel.iostream.OutStream object at 0x7f159bce0d68> sending data back to the client\n",
      "-0.011740881\n",
      "\n",
      "<ipykernel.iostream.OutStream object at 0x7f159bce0d68> received  b''\n",
      "<ipykernel.iostream.OutStream object at 0x7f159bce0d68> no more data from ('127.0.0.1', 56028)\n",
      "<ipykernel.iostream.OutStream object at 0x7f159bce0d68> waiting for a connection\n"
     ]
    },
    {
     "ename": "KeyboardInterrupt",
     "evalue": "",
     "output_type": "error",
     "traceback": [
      "\u001b[0;31m---------------------------------------------------------------------------\u001b[0m",
      "\u001b[0;31mKeyboardInterrupt\u001b[0m                         Traceback (most recent call last)",
      "\u001b[0;32m<ipython-input-22-62ed3630a11f>\u001b[0m in \u001b[0;36m<module>\u001b[0;34m()\u001b[0m\n\u001b[1;32m     12\u001b[0m     \u001b[0;31m# Wait for a connection\u001b[0m\u001b[0;34m\u001b[0m\u001b[0;34m\u001b[0m\u001b[0m\n\u001b[1;32m     13\u001b[0m     \u001b[0mprint\u001b[0m \u001b[0;34m(\u001b[0m\u001b[0msys\u001b[0m\u001b[0;34m.\u001b[0m\u001b[0mstderr\u001b[0m\u001b[0;34m,\u001b[0m \u001b[0;34m'waiting for a connection'\u001b[0m\u001b[0;34m)\u001b[0m\u001b[0;34m\u001b[0m\u001b[0m\n\u001b[0;32m---> 14\u001b[0;31m     \u001b[0mconnection\u001b[0m\u001b[0;34m,\u001b[0m \u001b[0mclient_address\u001b[0m \u001b[0;34m=\u001b[0m \u001b[0msock\u001b[0m\u001b[0;34m.\u001b[0m\u001b[0maccept\u001b[0m\u001b[0;34m(\u001b[0m\u001b[0;34m)\u001b[0m\u001b[0;34m\u001b[0m\u001b[0m\n\u001b[0m\u001b[1;32m     15\u001b[0m     \u001b[0;32mtry\u001b[0m\u001b[0;34m:\u001b[0m\u001b[0;34m\u001b[0m\u001b[0m\n\u001b[1;32m     16\u001b[0m         \u001b[0mprint\u001b[0m \u001b[0;34m(\u001b[0m\u001b[0msys\u001b[0m\u001b[0;34m.\u001b[0m\u001b[0mstderr\u001b[0m\u001b[0;34m,\u001b[0m \u001b[0;34m'connection from'\u001b[0m\u001b[0;34m,\u001b[0m \u001b[0mclient_address\u001b[0m\u001b[0;34m)\u001b[0m\u001b[0;34m\u001b[0m\u001b[0m\n",
      "\u001b[0;32m/usr/lib64/python3.4/socket.py\u001b[0m in \u001b[0;36maccept\u001b[0;34m(self)\u001b[0m\n\u001b[1;32m    185\u001b[0m         \u001b[0mFor\u001b[0m \u001b[0mIP\u001b[0m \u001b[0msockets\u001b[0m\u001b[0;34m,\u001b[0m \u001b[0mthe\u001b[0m \u001b[0maddress\u001b[0m \u001b[0minfo\u001b[0m \u001b[0;32mis\u001b[0m \u001b[0ma\u001b[0m \u001b[0mpair\u001b[0m \u001b[0;34m(\u001b[0m\u001b[0mhostaddr\u001b[0m\u001b[0;34m,\u001b[0m \u001b[0mport\u001b[0m\u001b[0;34m)\u001b[0m\u001b[0;34m.\u001b[0m\u001b[0;34m\u001b[0m\u001b[0m\n\u001b[1;32m    186\u001b[0m         \"\"\"\n\u001b[0;32m--> 187\u001b[0;31m         \u001b[0mfd\u001b[0m\u001b[0;34m,\u001b[0m \u001b[0maddr\u001b[0m \u001b[0;34m=\u001b[0m \u001b[0mself\u001b[0m\u001b[0;34m.\u001b[0m\u001b[0m_accept\u001b[0m\u001b[0;34m(\u001b[0m\u001b[0;34m)\u001b[0m\u001b[0;34m\u001b[0m\u001b[0m\n\u001b[0m\u001b[1;32m    188\u001b[0m         \u001b[0;31m# If our type has the SOCK_NONBLOCK flag, we shouldn't pass it onto the\u001b[0m\u001b[0;34m\u001b[0m\u001b[0;34m\u001b[0m\u001b[0m\n\u001b[1;32m    189\u001b[0m         \u001b[0;31m# new socket. We do not currently allow passing SOCK_NONBLOCK to\u001b[0m\u001b[0;34m\u001b[0m\u001b[0;34m\u001b[0m\u001b[0m\n",
      "\u001b[0;31mKeyboardInterrupt\u001b[0m: "
     ]
    }
   ],
   "source": []
  },
  {
   "cell_type": "code",
   "execution_count": 3,
   "metadata": {},
   "outputs": [
    {
     "name": "stdout",
     "output_type": "stream",
     "text": [
      "193.167.239.10\n"
     ]
    }
   ],
   "source": []
  },
  {
   "cell_type": "code",
   "execution_count": 4,
   "metadata": {},
   "outputs": [],
   "source": []
  },
  {
   "cell_type": "code",
   "execution_count": 6,
   "metadata": {},
   "outputs": [
    {
     "name": "stdout",
     "output_type": "stream",
     "text": [
      "<ipykernel.iostream.OutStream object at 0x7f159bce0d68> starting up on localhost port 10000\n"
     ]
    }
   ],
   "source": []
  },
  {
   "cell_type": "code",
   "execution_count": 11,
   "metadata": {},
   "outputs": [
    {
     "name": "stdout",
     "output_type": "stream",
     "text": [
      "<ipykernel.iostream.OutStream object at 0x7f159bce0d68> waiting for a connection\n",
      "<ipykernel.iostream.OutStream object at 0x7f159bce0d68> connection from ('127.0.0.1', 35282)\n",
      "<ipykernel.iostream.OutStream object at 0x7f159bce0d68> received \"b'This is the message.  It will be repeated.'\"\n",
      "<ipykernel.iostream.OutStream object at 0x7f159bce0d68> sending data back to the client\n",
      "<ipykernel.iostream.OutStream object at 0x7f159bce0d68> received \"b''\"\n",
      "<ipykernel.iostream.OutStream object at 0x7f159bce0d68> no more data from ('127.0.0.1', 35282)\n",
      "<ipykernel.iostream.OutStream object at 0x7f159bce0d68> waiting for a connection\n"
     ]
    },
    {
     "ename": "KeyboardInterrupt",
     "evalue": "",
     "output_type": "error",
     "traceback": [
      "\u001b[0;31m---------------------------------------------------------------------------\u001b[0m",
      "\u001b[0;31mKeyboardInterrupt\u001b[0m                         Traceback (most recent call last)",
      "\u001b[0;32m<ipython-input-11-bb543722239a>\u001b[0m in \u001b[0;36m<module>\u001b[0;34m()\u001b[0m\n\u001b[1;32m      4\u001b[0m     \u001b[0;31m# Wait for a connection\u001b[0m\u001b[0;34m\u001b[0m\u001b[0;34m\u001b[0m\u001b[0m\n\u001b[1;32m      5\u001b[0m     \u001b[0mprint\u001b[0m \u001b[0;34m(\u001b[0m\u001b[0msys\u001b[0m\u001b[0;34m.\u001b[0m\u001b[0mstderr\u001b[0m\u001b[0;34m,\u001b[0m \u001b[0;34m'waiting for a connection'\u001b[0m\u001b[0;34m)\u001b[0m\u001b[0;34m\u001b[0m\u001b[0m\n\u001b[0;32m----> 6\u001b[0;31m     \u001b[0mconnection\u001b[0m\u001b[0;34m,\u001b[0m \u001b[0mclient_address\u001b[0m \u001b[0;34m=\u001b[0m \u001b[0msock\u001b[0m\u001b[0;34m.\u001b[0m\u001b[0maccept\u001b[0m\u001b[0;34m(\u001b[0m\u001b[0;34m)\u001b[0m\u001b[0;34m\u001b[0m\u001b[0m\n\u001b[0m\u001b[1;32m      7\u001b[0m     \u001b[0;32mtry\u001b[0m\u001b[0;34m:\u001b[0m\u001b[0;34m\u001b[0m\u001b[0m\n\u001b[1;32m      8\u001b[0m         \u001b[0mprint\u001b[0m \u001b[0;34m(\u001b[0m\u001b[0msys\u001b[0m\u001b[0;34m.\u001b[0m\u001b[0mstderr\u001b[0m\u001b[0;34m,\u001b[0m \u001b[0;34m'connection from'\u001b[0m\u001b[0;34m,\u001b[0m \u001b[0mclient_address\u001b[0m\u001b[0;34m)\u001b[0m\u001b[0;34m\u001b[0m\u001b[0m\n",
      "\u001b[0;32m/usr/lib64/python3.4/socket.py\u001b[0m in \u001b[0;36maccept\u001b[0;34m(self)\u001b[0m\n\u001b[1;32m    185\u001b[0m         \u001b[0mFor\u001b[0m \u001b[0mIP\u001b[0m \u001b[0msockets\u001b[0m\u001b[0;34m,\u001b[0m \u001b[0mthe\u001b[0m \u001b[0maddress\u001b[0m \u001b[0minfo\u001b[0m \u001b[0;32mis\u001b[0m \u001b[0ma\u001b[0m \u001b[0mpair\u001b[0m \u001b[0;34m(\u001b[0m\u001b[0mhostaddr\u001b[0m\u001b[0;34m,\u001b[0m \u001b[0mport\u001b[0m\u001b[0;34m)\u001b[0m\u001b[0;34m.\u001b[0m\u001b[0;34m\u001b[0m\u001b[0m\n\u001b[1;32m    186\u001b[0m         \"\"\"\n\u001b[0;32m--> 187\u001b[0;31m         \u001b[0mfd\u001b[0m\u001b[0;34m,\u001b[0m \u001b[0maddr\u001b[0m \u001b[0;34m=\u001b[0m \u001b[0mself\u001b[0m\u001b[0;34m.\u001b[0m\u001b[0m_accept\u001b[0m\u001b[0;34m(\u001b[0m\u001b[0;34m)\u001b[0m\u001b[0;34m\u001b[0m\u001b[0m\n\u001b[0m\u001b[1;32m    188\u001b[0m         \u001b[0;31m# If our type has the SOCK_NONBLOCK flag, we shouldn't pass it onto the\u001b[0m\u001b[0;34m\u001b[0m\u001b[0;34m\u001b[0m\u001b[0m\n\u001b[1;32m    189\u001b[0m         \u001b[0;31m# new socket. We do not currently allow passing SOCK_NONBLOCK to\u001b[0m\u001b[0;34m\u001b[0m\u001b[0;34m\u001b[0m\u001b[0m\n",
      "\u001b[0;31mKeyboardInterrupt\u001b[0m: "
     ]
    }
   ],
   "source": []
  },
  {
   "cell_type": "code",
   "execution_count": null,
   "metadata": {},
   "outputs": [],
   "source": []
  },
  {
   "cell_type": "code",
   "execution_count": null,
   "metadata": {},
   "outputs": [],
   "source": []
  }
 ],
 "metadata": {
  "kernelspec": {
   "display_name": "Python 3",
   "language": "python",
   "name": "python3"
  },
  "language_info": {
   "codemirror_mode": {
    "name": "ipython",
    "version": 3
   },
   "file_extension": ".py",
   "mimetype": "text/x-python",
   "name": "python",
   "nbconvert_exporter": "python",
   "pygments_lexer": "ipython3",
   "version": "3.4.9"
  }
 },
 "nbformat": 4,
 "nbformat_minor": 2
}
